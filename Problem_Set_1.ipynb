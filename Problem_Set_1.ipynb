{
 "cells": [
  {
   "cell_type": "markdown",
   "metadata": {},
   "source": [
    "# Problem Set 1"
   ]
  },
  {
   "cell_type": "markdown",
   "metadata": {},
   "source": [
    "### Question 1\n",
    "What data type is each of the following?\n",
    " * 5\n",
    " * 5.0\n",
    " * 5 > 1\n",
    " * '5'\n",
    " * 5 * 2\n",
    " * '5' * 2\n",
    " * '5' + '2'\n",
    " * 5 / 2\n",
    " * 5 // 2\n",
    " * [5, 2, 1]\n",
    " * 5 in [1, 4, 6]\n",
    " * math.pi"
   ]
  },
  {
   "cell_type": "code",
   "execution_count": 1,
   "metadata": {},
   "outputs": [
    {
     "name": "stdout",
     "output_type": "stream",
     "text": [
      "5 is of the type <class 'int'>\n",
      "5.0 is of the type <class 'float'>\n",
      "True is of the type <class 'bool'>\n",
      "5 is of the type <class 'str'>\n",
      "10 is of the type <class 'int'>\n",
      "55 is of the type <class 'str'>\n",
      "52 is of the type <class 'str'>\n",
      "2.5 is of the type <class 'float'>\n",
      "2 is of the type <class 'int'>\n",
      "[5, 2, 1] is of the type <class 'list'>\n",
      "False is of the type <class 'bool'>\n",
      "3.141592653589793 is of the type <class 'float'>\n"
     ]
    }
   ],
   "source": [
    "#usage of type() function to get the type of each variable\n",
    "import math\n",
    "var = 5\n",
    "print(var, \"is of the type\", type(var))\n",
    "var = 5.0\n",
    "print(var, \"is of the type\", type(var))\n",
    "var = 5 > 1\n",
    "print(var, \"is of the type\", type(var))\n",
    "var = '5'\n",
    "print(var, \"is of the type\", type(var))\n",
    "var = 5 * 2\n",
    "print(var, \"is of the type\", type(var))\n",
    "var = '5' * 2\n",
    "print(var, \"is of the type\", type(var))\n",
    "var = '5' + '2'\n",
    "print(var, \"is of the type\", type(var))\n",
    "var = 5 / 2\n",
    "print(var, \"is of the type\", type(var))\n",
    "var = 5 // 2\n",
    "print(var, \"is of the type\", type(var))\n",
    "var = [5, 2, 1]\n",
    "print(var, \"is of the type\", type(var))\n",
    "var = 5 in [1, 4, 6]\n",
    "print(var, \"is of the type\", type(var))\n",
    "var = math.pi\n",
    "print(var, \"is of the type\", type(var))"
   ]
  },
  {
   "cell_type": "markdown",
   "metadata": {},
   "source": [
    "### Question 2\n",
    "Write (and evaluate) Python expressions that answer these questions:"
   ]
  },
  {
   "cell_type": "markdown",
   "metadata": {},
   "source": [
    "##### a. \n",
    "How many letters are there in 'Supercalifragilisticexpialidocious'?"
   ]
  },
  {
   "cell_type": "code",
   "execution_count": 2,
   "metadata": {},
   "outputs": [
    {
     "name": "stdout",
     "output_type": "stream",
     "text": [
      "Number of letters in the word \"Supercalifragilisticexpialidocious\" are 34.\n"
     ]
    }
   ],
   "source": [
    "var = 'Supercalifragilisticexpialidocious'\n",
    "#len() function to get the number of characters in a string\n",
    "print('Number of letters in the word \\\"{}\\\" are {}.'.format(var,len(var))) "
   ]
  },
  {
   "cell_type": "markdown",
   "metadata": {},
   "source": [
    "##### b. \n",
    "Does 'Supercalifragilisticexpialidocious' contain 'ice' as a substring? "
   ]
  },
  {
   "cell_type": "code",
   "execution_count": 3,
   "metadata": {},
   "outputs": [
    {
     "name": "stdout",
     "output_type": "stream",
     "text": [
      "Supercalifragilisticexpialidocious contains ice\n"
     ]
    }
   ],
   "source": [
    "var = 'Supercalifragilisticexpialidocious'\n",
    "a = 'ice'\n",
    "if a in var : #checks if the a is the substring of var\n",
    "    print(var, \"contains\", a)"
   ]
  },
  {
   "cell_type": "markdown",
   "metadata": {},
   "source": [
    "##### c. \n",
    "Which of the following words is the longest:\n",
    "Supercalifragilisticexpialidocious, Honorificabilitudinitatibus, or\n",
    "Bababadalgharaghtakamminarronnkonn? "
   ]
  },
  {
   "cell_type": "code",
   "execution_count": 10,
   "metadata": {},
   "outputs": [
    {
     "name": "stdout",
     "output_type": "stream",
     "text": [
      "Bababadalgharaghtakamminarronnkonn is longest and the length is 34\n"
     ]
    }
   ],
   "source": [
    "a = 'Supercalifragilisticexpialidocious'\n",
    "b = 'Honorificabilitudinitatibus'\n",
    "c = 'Bababadalgharaghtakamminarronnkonn'\n",
    "lenA = len(a)\n",
    "lenB = len(b)\n",
    "lenC = len(c)\n",
    "if lenA > lenB and lenA > lenC :\n",
    "    print(a, 'is longest and the length is', lenA)\n",
    "elif lenB > lenA and lenB > lenC :\n",
    "    print(b, 'is longest and the length is', lenB)\n",
    "else :\n",
    "    print(c, 'is longest and the length is', lenC)"
   ]
  },
  {
   "cell_type": "markdown",
   "metadata": {},
   "source": [
    "##### d. \n",
    "Which composer comes first in the dictionary: 'Berlioz', 'Borodin', 'Brian',\n",
    "'Bartok', 'Bellini', 'Buxtehude', 'Bernstein'. Which one comes last?"
   ]
  },
  {
   "cell_type": "code",
   "execution_count": 11,
   "metadata": {},
   "outputs": [
    {
     "name": "stdout",
     "output_type": "stream",
     "text": [
      "sorted list is ['Bartok', 'Bellini', 'Berlioz', 'Bernstein', 'Borodin', 'Brian', 'Buxtehude']\n",
      "first word is Bartok\n",
      "The last word is Buxtehude\n"
     ]
    }
   ],
   "source": [
    "composerList = ['Berlioz', 'Borodin', 'Brian', 'Bartok', 'Bellini', 'Buxtehude', 'Bernstein']\n",
    "composerList.sort()\n",
    "print('sorted list is', composerList)\n",
    "print('first word is', composerList[0])\n",
    "print('The last word is', composerList[-1])"
   ]
  },
  {
   "cell_type": "markdown",
   "metadata": {},
   "source": [
    "### Question 3\n",
    "##### a. \n",
    "Write a function inside(x,y,x1,y1,x2,y2) that returns True or False\n",
    "depending on whether the point (x,y) lies in the rectangle with lower left\n",
    "corner (x1,y1) and upper right corner (x2,y2).\n",
    "* inside(1,1,0,0,2,3)\n",
    "    >True\n",
    "* inside(-1,-1,0,0,2,3)\n",
    "    >False"
   ]
  },
  {
   "cell_type": "code",
   "execution_count": 16,
   "metadata": {},
   "outputs": [
    {
     "name": "stdout",
     "output_type": "stream",
     "text": [
      "The point (1,1) lies within the rectangle (0,0) and (2,3).\n",
      "True\n",
      "The point (-1,-1) lies outside the rectangle (0,0) and (2,3).\n",
      "False\n"
     ]
    }
   ],
   "source": [
    "def inside(x,y,x1,y1,x2,y2) : \n",
    "    'checks if the points (x,y) lies within the rectangle (x1,y1) and (x2,y2)'\n",
    "    if (x >= x1 and x <= x2) and (y >= y1 and y <= y2) : #checks if the point lies within the rectangle\n",
    "        print('The point ({},{}) lies within the rectangle ({},{}) and ({},{}).'.format(x,y,x1,y1,x2,y2))\n",
    "        return True\n",
    "    else:\n",
    "        print('The point ({},{}) lies outside the rectangle ({},{}) and ({},{}).'.format(x,y,x1,y1,x2,y2))\n",
    "        return False;\n",
    "print(inside(1,1,0,0,2,3))\n",
    "print(inside(-1,-1,0,0,2,3))"
   ]
  },
  {
   "cell_type": "markdown",
   "metadata": {},
   "source": [
    "#### b. \n",
    "Use function inside() from part a. to write an expression that tests whether\n",
    "the point (1,1) lies in both of the following rectangles: one with lower left\n",
    "corner (0.3, 0.5) and upper right corner (1.1, 0.7) and the other with lower\n",
    "left corner (0.5, 0.2) and upper right corner (1.1, 2). "
   ]
  },
  {
   "cell_type": "code",
   "execution_count": 13,
   "metadata": {},
   "outputs": [
    {
     "name": "stdout",
     "output_type": "stream",
     "text": [
      "The point (1,1) does not lie within both the rectangle (0.3,0.5)(1.1,0.7) and (0.5,0.2)(1.1,2).\n"
     ]
    }
   ],
   "source": [
    "def inside(x,y,x1,y1,x2,y2) : \n",
    "    'checks if the points (x,y) lies within the rectangle (x1,y1) and (x2,y2)'\n",
    "    if (x >= x1 and x <= x2) and (y >= y1 and y <= y2) :\n",
    "        return True\n",
    "    else:\n",
    "        return False;\n",
    "a = inside(1,1,0.3,0.5,1.1,0.7)\n",
    "b = inside(1,1,0.5,0.2,1.1,2)\n",
    "if (a == True and b == True):\n",
    "    print('The point (1,1) lies within both the rectangle (0.3,0.5)(1.1,0.7) and (0.5,0.2)(1.1,2).')\n",
    "else:\n",
    "    print('The point (1,1) does not lie within both the rectangle (0.3,0.5)(1.1,0.7) and (0.5,0.2)(1.1,2).')"
   ]
  },
  {
   "cell_type": "markdown",
   "metadata": {},
   "source": [
    "### Question 4\n",
    "You can turn a word into pig-Latin using the following two rules (simplified):\n",
    "* If the word starts with a consonant, move that letter to the end and append 'ay'. For example, 'happy' becomes 'appyhay' and 'pencil' becomes 'encilpay'.\n",
    "* If the word starts with a vowel, simply append 'way' to the end of the word. For example, 'enter' becomes 'enterway' and 'other' becomes 'otherway' . For our purposes, there are 5 vowels: a, e, i, o, u (so we count y as a consonant).\n",
    "\n",
    "* Write a function pig() that takes a word (i.e., a string) as input and returns its pigLatin form. Your function should still work if the input word contains upper case\n",
    "characters. Your output should always be lower case however.\n",
    "* pig('happy')\n",
    ">'appyhay'\n",
    "* pig('Enter')\n",
    ">'enterway'"
   ]
  },
  {
   "cell_type": "code",
   "execution_count": 18,
   "metadata": {},
   "outputs": [
    {
     "name": "stdout",
     "output_type": "stream",
     "text": [
      "appyhay\n",
      "enterway\n",
      "encilpay\n",
      "otherway\n"
     ]
    }
   ],
   "source": [
    "def pig(s):\n",
    "    stringLower = s.lower()\n",
    "    a = stringLower[0]\n",
    "    if a == 'i' or a == 'e' or a == 'i' or a == 'o' or a == 'u' : #If the first character is a vowel\n",
    "        newString1 = stringLower + 'way'\n",
    "        print(newString1)\n",
    "    else: #If the first character is a consonant\n",
    "        newString2 = stringLower + stringLower[0] + 'ay'\n",
    "        print(newString2[1:])            \n",
    "pig('happy')\n",
    "pig('Enter')   \n",
    "pig('Pencil')\n",
    "pig('Other')"
   ]
  },
  {
   "cell_type": "markdown",
   "metadata": {},
   "source": [
    "### Question 5\n",
    "File bloodtype1.txt records blood-types of patients (A, B, AB, O or OO) at a clinic.\n",
    "Write a function bldcount() that reads the file with name name and reports (i.e.,\n",
    "prints) how many patients there are in each bloodtype.\n",
    "* bldcount('bloodtype.txt')\n",
    "> * There are 10 patients of blood type A.\n",
    "> * There is one patient of blood type B.\n",
    "> * There are 10 patients of blood type AB.\n",
    "> * There are 12 patients of blood type O.\n",
    "> * There are no patients of blood type OO."
   ]
  },
  {
   "cell_type": "code",
   "execution_count": 13,
   "metadata": {},
   "outputs": [
    {
     "name": "stdout",
     "output_type": "stream",
     "text": [
      "There are 15 patients of blood type A.\n",
      "There are 1 patients of blood type B.\n",
      "There are 13 patients of blood type AB.\n",
      "There are 15 patients of blood type O.\n",
      "There are 0 patients of blood type OO.\n"
     ]
    }
   ],
   "source": [
    "def bldcount():\n",
    "    'reads the file bloodtype1.txt and records the number of patients with the blood types'\n",
    "    fileptr = open('bloodtype1.txt', 'r')\n",
    "    typeList = fileptr.read()\n",
    "    fileptr.close()\n",
    "    bloodType = typeList.split()\n",
    "    var = len(bloodType)\n",
    "    bloodTypeList = ['A', 'B', 'AB', 'O', 'OO']\n",
    "    count = [0 ,0 ,0 ,0 ,0] #blood group list in format [A, B, AB, O, OO]\n",
    "    #For loop BEGIN; This compares the blood groups and keeps the count\n",
    "    for i in range(var):\n",
    "        if bloodType[i] == bloodTypeList[0]:\n",
    "            count[0] += 1\n",
    "        elif bloodType[i] == bloodTypeList[1]:\n",
    "            count[1] += 1\n",
    "        elif bloodType[i] == bloodTypeList[2]:\n",
    "            count[2] += 1\n",
    "        elif bloodType[i] == bloodTypeList[3]:\n",
    "            count[3] += 1\n",
    "        elif bloodType[i] == bloodTypeList[4]:\n",
    "            count[4] += 1\n",
    "\n",
    "    for i in range(len(bloodTypeList)):\n",
    "        print('There are {} patients of blood type {}.'.format(count[i],bloodTypeList[i]))\n",
    "          \n",
    "bldcount()"
   ]
  },
  {
   "cell_type": "markdown",
   "metadata": {},
   "source": [
    "### Question 6\n",
    "Write a function curconv() that takes as input:\n",
    "1. a currency represented using a string (e.g., 'JPY' for the Japanese Yen or\n",
    "'EUR' for the Euro)\n",
    "2. an amount\n",
    "\n",
    "and then converts and returns the amount in US dollars.\n",
    "* curconv('EUR', 100)\n",
    ">122.96544\n",
    "* curconv('JPY', 100)\n",
    ">1.241401"
   ]
  },
  {
   "cell_type": "code",
   "execution_count": 2,
   "metadata": {},
   "outputs": [
    {
     "name": "stdout",
     "output_type": "stream",
     "text": [
      "Currencies:\n",
      "Acronym\tCurrent Value\tCurrency Name\n",
      "AUD\t1.0345157\tAustralian Dollar\n",
      "CHF\t1.0237414\tSwiss Franc\n",
      "CNY\t0.1550176\tChinese Yuan\n",
      "DKK\t0.1651442\tDanish Krone\n",
      "EUR\t1.2296544\tEuro\n",
      "GBP\t1.5550989\tBritish Pound\n",
      "HKD\t0.1270207\tHong Kong Dollar\n",
      "INR\t0.0177643\tIndian Rupee\n",
      "JPY\t0.01241401\tJapanese Yen\n",
      "MXN\t0.0751848\tMexican Peso\n",
      "MYR\t0.3145411\tMalaysian Ringgit\n",
      "NOK\t0.1677063\tNorwegian Krone\n",
      "NZD\t0.8003591\tNew Zealand Dollar\n",
      "PHP\t0.0233234\tPhilippine Peso\n",
      "SEK\t0.148269\tSwedish Krona\n",
      "SGD\t0.788871\tSingapore Dollar\n",
      "THB\t0.0313789\tThai Baht\n",
      "\n",
      "Enter the currency acronym (ex: AUD): AUD\n",
      "The currency you chose: AUD \n",
      "Enter the amount: 100\n",
      "Converted Amount is: 103.45157\n"
     ]
    }
   ],
   "source": [
    "def displayCurrencies():\n",
    "    'Displays the currencies available in the file'\n",
    "    fileptr = open('currencies.txt', 'r') #Open file in Read mode\n",
    "    print('Currencies:')\n",
    "    print('Acronym\\tCurrent Value\\tCurrency Name')\n",
    "    print(fileptr.read())\n",
    "    fileptr.close()\n",
    "\n",
    "def curconv(a,b):\n",
    "    'converts the currency'\n",
    "    fileptr = open('currencies.txt', 'r') #Open file in Read mode\n",
    "    listLines = fileptr.readlines() #Read lines\n",
    "    fileptr.close()\n",
    "    for i in listLines:\n",
    "        if a in i:\n",
    "            currencyLine = i\n",
    "    chosenCur = currencyLine.split()\n",
    "    value = chosenCur[1]\n",
    "    convertedAmount = float(value) * float(b)\n",
    "    return convertedAmount\n",
    "\n",
    "#Display the available currencies\n",
    "displayCurrencies()\n",
    "#Ask to chose the required currency\n",
    "currency = str(input('Enter the currency acronym (ex: AUD): '))\n",
    "print('The currency you chose: {} '.format(currency))\n",
    "#Ask for the amount to convert\n",
    "amount = input('Enter the amount: ')\n",
    "#Call function to convert currency\n",
    "convertedAmount = curconv(currency,amount)\n",
    "print('Converted Amount is: {}'.format(convertedAmount))"
   ]
  },
  {
   "cell_type": "markdown",
   "metadata": {},
   "source": [
    "### Question 7\n",
    "Each of the following will cause an exception (an error). Identify what type of\n",
    "exception each will cause."
   ]
  },
  {
   "cell_type": "markdown",
   "metadata": {},
   "source": [
    "* Q: Trying to add incompatible variables, as in adding 6 + ‘a’\n",
    "* A: TypeError. It is because the addition is done on a string and an integer. "
   ]
  },
  {
   "cell_type": "markdown",
   "metadata": {},
   "source": [
    "* Q: Referring to the 12th item of a list that has only 10 items\n",
    "* A: IndexError. This is because the list has only 10 items and the reference to the 12th item does not exist."
   ]
  },
  {
   "cell_type": "markdown",
   "metadata": {},
   "source": [
    "* Q: Using a value that is out of range for a function’s input, such as calling math.sqrt(-1.0)\n",
    "* A: ValueError. The square root of a negative number is not defined in a simple form."
   ]
  },
  {
   "cell_type": "markdown",
   "metadata": {},
   "source": [
    "* Q: Using an undeclared variable, such as print(x) when x has not been defined\n",
    "* A: NameError. It is because x is an unassigned identifier."
   ]
  },
  {
   "cell_type": "markdown",
   "metadata": {},
   "source": [
    "* Q: Trying to open a file that does not exist, such as mistyping the file name or looking in the wrong directory.\n",
    "* A: FileNotFoundError. The error occurs as the file referred does not exist"
   ]
  },
  {
   "cell_type": "markdown",
   "metadata": {},
   "source": [
    "### Question 8\n",
    "Encryption is the process of hiding the meaning of a text by substituting letters in the\n",
    "message with other letters, according to some system. If the process is successful, no\n",
    "one but the intended recipient can understand the encrypted message. Cryptanalysis\n",
    "refers to attempts to undo the encryption, even if some details of the encryption are\n",
    "unknown (for example, if an encrypted message has been intercepted). The first step\n",
    "of cryptanalysis is often to build up a table of letter frequencies in the encrypted text.\n",
    "Assume that the string letters is already defined as\n",
    "'abcdefghijklmnopqrstuvwxyz'. Write a function called frequencies()\n",
    "that takes a string as its only parameter, and returns a list of integers, showing the\n",
    "number of times each character appears in the text. Your function may ignore any\n",
    "characters that are not in letters.\n",
    "* frequencies('The quick red fox got bored and went home.')\n",
    ">[1, 1, 1, 3, 5, 1, 1, 2, 1, 0, 1, 0, 1, 2, 4, 0, 1, 2, 0, 2,\n",
    "1, 0, 1, 1, 0, 0]\n",
    "* frequencies('apple')"
   ]
  },
  {
   "cell_type": "code",
   "execution_count": 17,
   "metadata": {},
   "outputs": [
    {
     "name": "stdout",
     "output_type": "stream",
     "text": [
      "[1, 1, 1, 3, 5, 1, 1, 2, 1, 0, 1, 0, 1, 2, 4, 0, 1, 2, 0, 3, 1, 0, 1, 1, 0, 0]\n",
      "[1, 0, 0, 0, 1, 0, 0, 0, 0, 0, 0, 1, 0, 0, 0, 2, 0, 0, 0, 0, 0, 0, 0, 0, 0, 0]\n"
     ]
    }
   ],
   "source": [
    "def frequencies(s):\n",
    "    'takes an input string and count the frequencties of each character in it'\n",
    "    stringLower = s.lower()\n",
    "    letters = 'abcdefghijklmnopqrstuvwxyz'\n",
    "    lettersList = list(letters)\n",
    "    count = [0] * 26\n",
    "    for i in stringLower:\n",
    "        for j in range(len(lettersList)):\n",
    "            if i == lettersList[j]:\n",
    "                count[j] += 1;\n",
    "    print(count)\n",
    "    \n",
    "frequencies('The quick red fox got bored and went home.')\n",
    "frequencies('apple')"
   ]
  },
  {
   "cell_type": "markdown",
   "metadata": {},
   "source": [
    "### Question 9\n",
    "The Sieve of Erastophenes is an algorithm -- known to ancient Greeks -- that finds\n",
    "all prime numbers up to a given number n. It does this by first creating a list L from\n",
    "2 to n and an (initially empty) list primeL. The algorithm then takes the first number\n",
    "in list L (2) and appends it to list primeL, and then removes 2 and all its multiples\n",
    "(4,6,8,10,12, ...) from L. The algorithm then takes the new first number in L (3) and\n",
    "appends it to list primeL, and then removes from L 3 and all its remaining multiples\n",
    "(9,15,21,...). So, in every iteration, the first number of list L is appended to list\n",
    "primeL and then it and its multiples are removed from list L. The iterations stop\n",
    "when list L becomes empty. Write a function sieve() that takes as input a positive\n",
    "integer n, implements the above algorithm, and returns a list of all prime numbers up\n",
    "to n.\n",
    "* sieve(56)\n",
    ">[2, 3, 5, 7, 11, 13, 17, 19, 23, 29, 31, 37, 41,\n",
    "43, 47, 53]\n",
    "* sieve(368)\n",
    ">[2, 3, 5, 7, 11, 13, 17, 19, 23, 29, 31, 37, 41,\n",
    "43, 47, 53, 59, 61, 67, 71, 73, 79, 83, 89, 97,\n",
    "101, 103, 107, 109, 113, 127, 131, 137, 139, 149,\n",
    "151, 157, 163, 167, 173, 179, 181, 191, 193, 197,\n",
    "199, 211, 223, 227, 229, 233, 239, 241, 251, 257,\n",
    "263, 269, 271, 277, 281, 283, 293, 307, 311, 313,\n",
    "317, 331, 337, 347, 349, 353, 359, 367]\n",
    "* sieve(32)\n",
    ">[2, 3, 5, 7, 11, 13, 17, 19, 23, 29, 31]"
   ]
  },
  {
   "cell_type": "code",
   "execution_count": 20,
   "metadata": {},
   "outputs": [
    {
     "name": "stdout",
     "output_type": "stream",
     "text": [
      ">>> sieve(56)\n",
      "[2, 3, 5, 7, 11, 13, 17, 19, 23, 29, 31, 37, 41, 43, 47, 53]\n",
      ">>> sieve(368)\n",
      "[2, 3, 5, 7, 11, 13, 17, 19, 23, 29, 31, 37, 41, 43, 47, 53, 59, 61, 67, 71, 73, 79, 83, 89, 97, 101, 103, 107, 109, 113, 127, 131, 137, 139, 149, 151, 157, 163, 167, 173, 179, 181, 191, 193, 197, 199, 211, 223, 227, 229, 233, 239, 241, 251, 257, 263, 269, 271, 277, 281, 283, 293, 307, 311, 313, 317, 331, 337, 347, 349, 353, 359, 367]\n",
      ">>> sieve(32)\n",
      "[2, 3, 5, 7, 11, 13, 17, 19, 23, 29, 31]\n"
     ]
    }
   ],
   "source": [
    "def sieve(n):\n",
    "    'executes Sieve of Erastophenes algorithm'\n",
    "    #create a list from 2 to n\n",
    "    a = 2\n",
    "    L = [] #Create an empty list L\n",
    "    while(a <= n): #Loop to increment a from 2 to n and append it to the list L\n",
    "        L.append(a)\n",
    "        a += 1\n",
    "    #print(L)\n",
    "    primeL = [] #Empty list primeL\n",
    "    for i in range(2 ,n + 1): #loop iterating the numbers in list L\n",
    "        if i not in primeL and i in L: #Checks if i is in L and not in primeList. proceeds if both conditions are met.\n",
    "            primeL.append(i) #appends i to the list primeL\n",
    "            L.remove(i)    #removes i from L\n",
    "            for j in range(i*i, n+1, i): #iterates for the multiples of i\n",
    "                if (j%i == 0): #checks if j is divisible by i\n",
    "                    if j in L: # only removes j from list L if it exists. \n",
    "                        L.remove(j)\n",
    "   \n",
    "    print('>>> sieve({})'.format(n))\n",
    "    print(primeL)\n",
    "  \n",
    "sieve(56)\n",
    "sieve(368)\n",
    "sieve(32)"
   ]
  },
  {
   "cell_type": "markdown",
   "metadata": {},
   "source": [
    "### Question 10\n",
    "Implement function triangleArea(a,b,c) that takes as input the lengths of the 3\n",
    "sides of a triangle and returns the area of the triangle. By Heron's formula, the area\n",
    "of a triangle with side lengths a, b, and c is\n",
    "s(s - a)(s -b)(s -c)\n",
    ", where\n",
    "s = (a+b+c)/2.\n",
    "* triangleArea(2,2,2)\n",
    ">1.7320508075688772"
   ]
  },
  {
   "cell_type": "code",
   "execution_count": 22,
   "metadata": {},
   "outputs": [
    {
     "name": "stdout",
     "output_type": "stream",
     "text": [
      "The area of the triangle is: 1.7320508075688772\n"
     ]
    }
   ],
   "source": [
    "import math\n",
    "def triangleArea(a,b,c):\n",
    "    'function to calculate the area of the triangle'\n",
    "    s = (a+b+c)/2\n",
    "    area = math.sqrt(s * (s-a) *(s-b) * (s-c))\n",
    "    return area\n",
    "\n",
    "area = triangleArea(2,2,2)\n",
    "print('The area of the triangle is: {}'.format(area))"
   ]
  }
 ],
 "metadata": {
  "kernelspec": {
   "display_name": "Python 3",
   "language": "python",
   "name": "python3"
  },
  "language_info": {
   "codemirror_mode": {
    "name": "ipython",
    "version": 3
   },
   "file_extension": ".py",
   "mimetype": "text/x-python",
   "name": "python",
   "nbconvert_exporter": "python",
   "pygments_lexer": "ipython3",
   "version": "3.8.3"
  }
 },
 "nbformat": 4,
 "nbformat_minor": 4
}
